{
 "cells": [
  {
   "cell_type": "markdown",
   "id": "ddda015d-6100-40d8-a580-29b4c9496d3d",
   "metadata": {},
   "source": [
    "Que1. What is the primary goal of Object-Oriented Programming (OOP)?"
   ]
  },
  {
   "cell_type": "markdown",
   "id": "7b851e1c-2122-49d5-aa19-d290d862b1d1",
   "metadata": {},
   "source": [
    "Ans The primary goal of Object-Oriented Programming (OOP) is to provide a modular and structured approach to software development. It emphasizes organizing code into reusable and self-contained components called objects, which encapsulate data and behavior. OOP aims to promote the concepts of abstraction, encapsulation, inheritance, and polymorphism to make code more manageable, scalable, and easier to maintain.\n",
    "\n",
    "By using OOP principles, developers can design software systems that model real-world entities or concepts as objects, each with its own properties (data) and behaviors (methods or functions). This approach allows for the creation of complex systems by building upon simpler, reusable components, fostering code reuse, and reducing code duplication.\n",
    "\n",
    "Furthermore, OOP facilitates the separation of concerns, enabling different developers to work on different parts of a system concurrently. It promotes code organization, readability, and maintainability by providing mechanisms for encapsulating data, hiding implementation details, and defining clear interfaces between objects.\n",
    "\n",
    "Overall, the primary goal of OOP is to improve software development efficiency, code reusability, and maintainability by structuring code around objects that represent entities and promote modular design."
   ]
  },
  {
   "cell_type": "markdown",
   "id": "5ecc1773-f8b5-4d55-8024-3c882c7e6796",
   "metadata": {},
   "source": [
    "Que 2. What is an object in Python?"
   ]
  },
  {
   "cell_type": "markdown",
   "id": "bc7fddbe-3369-4cad-8d80-ac36432e1aba",
   "metadata": {},
   "source": [
    "Ans In Python, an object is a fundamental concept that represents a specific instance of a class. It is a data structure that combines data (attributes or properties) and functions (methods) into a single entity. Objects are the building blocks of object-oriented programming (OOP) in Python.\n",
    "\n",
    "When you create an object, you are creating an instance of a class. A class serves as a blueprint or template that defines the attributes and behaviors an object can have. You can think of an object as an individual entity with its own unique characteristics and actions.\n",
    "\n",
    "In Python, objects have their own state (the values of their attributes) and behavior (the actions they can perform). The attributes store the data associated with the object, and the methods define the operations or actions that can be performed on the object.\n",
    "\n",
    "For example, let's consider a class called Car. You can create multiple objects of the Car class, each representing a different car with its own set of attributes (e.g., color, brand, model) and behaviors (e.g., start, stop, accelerate)."
   ]
  },
  {
   "cell_type": "markdown",
   "id": "fe67d689-8110-4ef2-99fc-a4a47c051c94",
   "metadata": {},
   "source": [
    "Que 3. What is a class in Python?"
   ]
  },
  {
   "cell_type": "markdown",
   "id": "0aa50e32-520d-4089-81a3-55d94132195e",
   "metadata": {},
   "source": [
    "Ans In Python, a class is a blueprint for creating objects (instances) that share common attributes and behaviors. It serves as a template or a definition for a particular type of object.\n",
    "\n",
    "A class defines the structure and behavior of its objects by encapsulating attributes (variables) and methods (functions). Attributes are variables that store data related to the class, while methods are functions that define the operations or actions that can be performed on the objects."
   ]
  },
  {
   "cell_type": "code",
   "execution_count": 5,
   "id": "d0c5251f-4d19-4ae5-aefb-88c26ed80358",
   "metadata": {},
   "outputs": [],
   "source": [
    "# Example\n",
    "class Car:\n",
    "    def __init__(self, brand, model):\n",
    "        self.brand = brand\n",
    "        self.model = model\n",
    "    \n",
    "    def start_engine(self):\n",
    "        print(f\"The {self.brand} {self.model}'s engine is started.\")"
   ]
  },
  {
   "cell_type": "markdown",
   "id": "83fe8c24-d763-4413-9120-73a72d67aaea",
   "metadata": {},
   "source": [
    "Que 4. What are attributes and methods in a class?"
   ]
  },
  {
   "cell_type": "markdown",
   "id": "2496f7b3-f319-42be-978d-50b32a111e8f",
   "metadata": {},
   "source": [
    "Ans In object-oriented programming, a class is a blueprint for creating objects (instances) that encapsulate data and behavior. Attributes and methods are the two main components of a class.\n",
    "\n",
    "Attributes, also known as instance variables or properties, represent the data or state associated with an object. They store information about the object's characteristics and can be accessed and modified by the methods of the class. Attributes define the object's properties and their values can differ between different instances of the class. For example, in a class representing a car, attributes could include the car's color, model, and speed.\n",
    "\n",
    "Methods, also known as member functions or operations, define the behavior or actions that objects of a class can perform. They encapsulate the logic and functionality related to the class and allow objects to interact with and modify their attributes. Methods are used to manipulate the data, perform computations, and provide functionality to the objects. For example, a class representing a car might have methods such as \"start_engine,\" \"accelerate,\" and \"brake.\""
   ]
  },
  {
   "cell_type": "markdown",
   "id": "bf98d26f-ade7-4af8-b5fb-0e84f3a281b6",
   "metadata": {},
   "source": [
    "Que 5. What is the difference between class variables and instance variables in Python?"
   ]
  },
  {
   "cell_type": "markdown",
   "id": "682ada60-c692-4841-94d0-dec6720297a6",
   "metadata": {},
   "source": [
    "Class Variables:\n",
    "\n",
    "Class variables are variables that are shared by all instances (objects) of a class.\n",
    "They are defined inside the class but outside any class methods.\n",
    "Class variables are accessed using the class name itself or through any instance of the class.\n",
    "When a class variable is modified, the change is reflected in all instances of the class.\n",
    "Class variables are typically used to store data that is common to all instances of the class.\n",
    "\n",
    "\n",
    "Instance Variables:\n",
    "\n",
    "Instance variables are unique to each instance (object) of a class.\n",
    "They are defined inside a class method, typically the constructor (__init__ method), or any other instance method.\n",
    "Instance variables are accessed using the instance name.\n",
    "Each instance of a class can have different values for its instance variables.\n",
    "Instance variables are used to store data that varies from one instance to another.Ans "
   ]
  },
  {
   "cell_type": "markdown",
   "id": "755de985-cb13-4a30-b246-f787b503b60e",
   "metadata": {},
   "source": [
    "Que 6. What is the purpose of the self parameter in Python class methods?"
   ]
  },
  {
   "cell_type": "markdown",
   "id": "feaac637-4d0c-438c-8602-39953993ff5d",
   "metadata": {},
   "source": [
    "Ans In Python, the self parameter is used in class methods to refer to the instance of the class itself. It acts as a reference to the instance that the method is being called on. When a method is invoked on an instance, the instance is automatically passed as the first argument to the method, which is conventionally named self.\n",
    "\n",
    "The self parameter allows you to access the attributes and methods of the instance within the class method. By using self, you can retrieve and modify the instance's data and perform actions specific to that instance."
   ]
  },
  {
   "cell_type": "markdown",
   "id": "6c7f340c-e44e-49fb-9669-4b82a24e4eb4",
   "metadata": {},
   "source": [
    "Que 7. For a library management system, you have to design the \"Book\" class with OOP\n",
    "principles in mind. The “Book” class will have following attributes:\n",
    "a. title: Represents the title of the book.\n",
    "b. author: Represents the author(s) of the book.\n",
    "c. isbn: Represents the ISBN (International Standard Book Number) of the book.\n",
    "d. publication_year: Represents the year of publication of the book.\n",
    "e. available_copies: Represents the number of copies available for checkout.\n",
    "The class will also include the following methods:\n",
    "a. check_out(self): Decrements the available copies by one if there are copies\n",
    "available for checkout.\n",
    "b. return_book(self): Increments the available copies by one when a book is\n",
    "returned.\n",
    "c. display_book_info(self): Displays the information about the book, including its\n",
    "attributes and the number of available copies."
   ]
  },
  {
   "cell_type": "code",
   "execution_count": 6,
   "id": "f0b51430-4412-4dbc-88c9-ed0fb2224497",
   "metadata": {},
   "outputs": [],
   "source": [
    "#Here's an example implementation of the \"Book\" class in Python, considering the attributes and methods you mentioned:\n",
    "class Book:\n",
    "    def __init__(self, title, author, isbn, publication_year, available_copies):\n",
    "        self.title = title\n",
    "        self.author = author\n",
    "        self.isbn = isbn\n",
    "        self.publication_year = publication_year\n",
    "        self.available_copies = available_copies\n",
    "\n",
    "    def check_out(self):\n",
    "        if self.available_copies > 0:\n",
    "            self.available_copies -= 1\n",
    "            print(f\"Book '{self.title}' checked out successfully.\")\n",
    "        else:\n",
    "            print(f\"Book '{self.title}' is not available for checkout.\")\n",
    "\n",
    "    def return_book(self):\n",
    "        self.available_copies += 1\n",
    "        print(f\"Book '{self.title}' returned successfully.\")\n",
    "\n",
    "    def display_book_info(self):\n",
    "        print(f\"Title: {self.title}\")\n",
    "        print(f\"Author(s): {self.author}\")\n",
    "        print(f\"ISBN: {self.isbn}\")\n",
    "        print(f\"Publication Year: {self.publication_year}\")\n",
    "        print(f\"Available Copies: {self.available_copies}\")"
   ]
  },
  {
   "cell_type": "code",
   "execution_count": 7,
   "id": "79821b82-4856-4847-90dd-6e520af9f43d",
   "metadata": {},
   "outputs": [
    {
     "name": "stdout",
     "output_type": "stream",
     "text": [
      "Title: The Catcher in the Rye\n",
      "Author(s): J.D. Salinger\n",
      "ISBN: 9780316769174\n",
      "Publication Year: 1951\n",
      "Available Copies: 3\n",
      "Book 'The Catcher in the Rye' checked out successfully.\n",
      "Title: The Catcher in the Rye\n",
      "Author(s): J.D. Salinger\n",
      "ISBN: 9780316769174\n",
      "Publication Year: 1951\n",
      "Available Copies: 2\n",
      "Book 'The Catcher in the Rye' returned successfully.\n",
      "Title: The Catcher in the Rye\n",
      "Author(s): J.D. Salinger\n",
      "ISBN: 9780316769174\n",
      "Publication Year: 1951\n",
      "Available Copies: 3\n"
     ]
    }
   ],
   "source": [
    "#you can create instances of the Book class and interact with them like this:\n",
    "# Create a book object\n",
    "book1 = Book(\"The Catcher in the Rye\", \"J.D. Salinger\", \"9780316769174\", 1951, 3)\n",
    "\n",
    "# Display book information\n",
    "book1.display_book_info()\n",
    "\n",
    "# Check out the book\n",
    "book1.check_out()\n",
    "\n",
    "# Display updated book information\n",
    "book1.display_book_info()\n",
    "\n",
    "# Return the book\n",
    "book1.return_book()\n",
    "\n",
    "# Display updated book information\n",
    "book1.display_book_info()"
   ]
  },
  {
   "cell_type": "markdown",
   "id": "09a5eb69-0d8c-454a-bd85-2879809ee5f7",
   "metadata": {},
   "source": [
    "Que 8. For a ticket booking system, you have to design the \"Ticket\" class with OOP\n",
    "principles in mind. The “Ticket” class should have the following attributes:\n",
    "a. ticket_id: Represents the unique identifier for the ticket.\n",
    "b. event_name: Represents the name of the event.\n",
    "c. event_date: Represents the date of the event.\n",
    "d. venue: Represents the venue of the event.\n",
    "e. seat_number: Represents the seat number associated with the ticket.\n",
    "f. price: Represents the price of the ticket.\n",
    "g. is_reserved: Represents the reservation status of the ticket.\n",
    "The class also includes the following methods:\n",
    "a. reserve_ticket(self): Marks the ticket as reserved if it is not already reserved.\n",
    "b. cancel_reservation(self): Cancels the reservation of the ticket if it is already\n",
    "reserved.\n",
    "c. display_ticket_info(self): Displays the information about the ticket, including its\n",
    "attributes and reservation status."
   ]
  },
  {
   "cell_type": "code",
   "execution_count": 8,
   "id": "7368167c-2b8a-4087-a7a8-3f2fdc333c1f",
   "metadata": {},
   "outputs": [],
   "source": [
    "#example implementation of the \"Ticket\" class with the attributes and methods you described:\n",
    "class Ticket:\n",
    "    def __init__(self, ticket_id, event_name, event_date, venue, seat_number, price):\n",
    "        self.ticket_id = ticket_id\n",
    "        self.event_name = event_name\n",
    "        self.event_date = event_date\n",
    "        self.venue = venue\n",
    "        self.seat_number = seat_number\n",
    "        self.price = price\n",
    "        self.is_reserved = False\n",
    "    \n",
    "    def reserve_ticket(self):\n",
    "        if not self.is_reserved:\n",
    "            self.is_reserved = True\n",
    "            print(\"Ticket reserved successfully.\")\n",
    "        else:\n",
    "            print(\"Ticket is already reserved.\")\n",
    "    \n",
    "    def cancel_reservation(self):\n",
    "        if self.is_reserved:\n",
    "            self.is_reserved = False\n",
    "            print(\"Reservation cancelled successfully.\")\n",
    "        else:\n",
    "            print(\"Ticket is not reserved.\")\n",
    "    \n",
    "    def display_ticket_info(self):\n",
    "        print(\"Ticket Information:\")\n",
    "        print(\"Ticket ID:\", self.ticket_id)\n",
    "        print(\"Event Name:\", self.event_name)\n",
    "        print(\"Event Date:\", self.event_date)\n",
    "        print(\"Venue:\", self.venue)\n",
    "        print(\"Seat Number:\", self.seat_number)\n",
    "        print(\"Price:\", self.price)\n",
    "        print(\"Reservation Status:\", \"Reserved\" if self.is_reserved else \"Not Reserved\")"
   ]
  },
  {
   "cell_type": "code",
   "execution_count": 10,
   "id": "83b4920a-4887-4a91-bb37-0cc579c4bb50",
   "metadata": {},
   "outputs": [
    {
     "name": "stdout",
     "output_type": "stream",
     "text": [
      "Ticket Information:\n",
      "Ticket ID: T123\n",
      "Event Name: Concert\n",
      "Event Date: 2023-07-15\n",
      "Venue: Stadium\n",
      "Seat Number: A12\n",
      "Price: 50.0\n",
      "Reservation Status: Not Reserved\n",
      "Ticket reserved successfully.\n",
      "Ticket is already reserved.\n",
      "Reservation cancelled successfully.\n",
      "Ticket is not reserved.\n",
      "Ticket Information:\n",
      "Ticket ID: T123\n",
      "Event Name: Concert\n",
      "Event Date: 2023-07-15\n",
      "Venue: Stadium\n",
      "Seat Number: A12\n",
      "Price: 50.0\n",
      "Reservation Status: Not Reserved\n"
     ]
    }
   ],
   "source": [
    "#Now you can create instances of the \"Ticket\" class and use its methods to interact with the ticket objects\n",
    "# Create a ticket instance\n",
    "ticket1 = Ticket(\"T123\", \"Concert\", \"2023-07-15\", \"Stadium\", \"A12\", 50.0)\n",
    "\n",
    "# Display ticket information\n",
    "ticket1.display_ticket_info()\n",
    "\n",
    "# Reserve the ticket\n",
    "ticket1.reserve_ticket()\n",
    "\n",
    "# Try to reserve the ticket again\n",
    "ticket1.reserve_ticket()\n",
    "\n",
    "# Cancel the reservation\n",
    "ticket1.cancel_reservation()\n",
    "\n",
    "# Try to cancel the reservation again\n",
    "ticket1.cancel_reservation()\n",
    "\n",
    "# Display ticket information after reservation and cancellation\n",
    "ticket1.display_ticket_info()"
   ]
  },
  {
   "cell_type": "markdown",
   "id": "e3dc0a75-44e2-4425-b87f-9415c1b4d800",
   "metadata": {},
   "source": [
    "Que 9. You are creating a shopping cart for an e-commerce website. Using OOP to model\n",
    "the \"ShoppingCart\" functionality the class should contain following attributes and\n",
    "methods:\n",
    "a. items: Represents the list of items in the shopping cart.\n",
    "The class also includes the following methods:\n",
    "\n",
    "a. add_item(self, item): Adds an item to the shopping cart by appending it to the\n",
    "list of items.\n",
    "b. remove_item(self, item): Removes an item from the shopping cart if it exists in\n",
    "the list.\n",
    "c. view_cart(self): Displays the items currently present in the shopping cart.\n",
    "d. clear_cart(self): Clears all items from the shopping cart by reassigning an\n",
    "empty list to the items attribute."
   ]
  },
  {
   "cell_type": "code",
   "execution_count": 11,
   "id": "8ab28678-7fbe-4933-b12e-da330ba89efb",
   "metadata": {},
   "outputs": [],
   "source": [
    "class ShoppingCart:\n",
    "    def __init__(self):\n",
    "        self.items = []\n",
    "\n",
    "    def add_item(self, item):\n",
    "        self.items.append(item)\n",
    "\n",
    "    def remove_item(self, item):\n",
    "        if item in self.items:\n",
    "            self.items.remove(item)\n",
    "        else:\n",
    "            print(f\"{item} is not in the shopping cart.\")\n",
    "\n",
    "    def view_cart(self):\n",
    "        if self.items:\n",
    "            print(\"Items in the shopping cart:\")\n",
    "            for item in self.items:\n",
    "                print(item)\n",
    "        else:\n",
    "            print(\"The shopping cart is empty.\")\n",
    "\n",
    "    def clear_cart(self):\n",
    "        self.items = []\n",
    "        print(\"The shopping cart has been cleared.\")"
   ]
  },
  {
   "cell_type": "code",
   "execution_count": 12,
   "id": "bfc4efef-34e7-483e-8037-ee6e6df5a236",
   "metadata": {},
   "outputs": [
    {
     "name": "stdout",
     "output_type": "stream",
     "text": [
      "Items in the shopping cart:\n",
      "Shirt\n",
      "Jeans\n",
      "Shoes\n",
      "Items in the shopping cart:\n",
      "Shirt\n",
      "Shoes\n",
      "The shopping cart has been cleared.\n",
      "The shopping cart is empty.\n"
     ]
    }
   ],
   "source": [
    "cart = ShoppingCart()\n",
    "\n",
    "cart.add_item(\"Shirt\")\n",
    "cart.add_item(\"Jeans\")\n",
    "cart.add_item(\"Shoes\")\n",
    "\n",
    "cart.view_cart()\n",
    "# Output:\n",
    "# Items in the shopping cart:\n",
    "# Shirt\n",
    "# Jeans\n",
    "# Shoes\n",
    "\n",
    "cart.remove_item(\"Jeans\")\n",
    "\n",
    "cart.view_cart()\n",
    "# Output:\n",
    "# Items in the shopping cart:\n",
    "# Shirt\n",
    "# Shoes\n",
    "\n",
    "cart.clear_cart()\n",
    "cart.view_cart()\n",
    "# Output:\n",
    "# The shopping cart is empty."
   ]
  },
  {
   "cell_type": "markdown",
   "id": "b8a54a92-0227-44c1-959c-ded59705f627",
   "metadata": {},
   "source": [
    "Que 10. Imagine a school management system. You have to design the \"Student\" class using\n",
    "OOP concepts.The “Student” class has the following attributes:\n",
    "a. name: Represents the name of the student.\n",
    "b. age: Represents the age of the student.\n",
    "c. grade: Represents the grade or class of the student.\n",
    "d. student_id: Represents the unique identifier for the student.\n",
    "e. attendance: Represents the attendance record of the student.\n",
    "The class should also include the following methods:\n",
    "a. update_attendance(self, date, status): Updates the attendance record of the\n",
    "student for a given date with the provided status (e.g., present or absent).\n",
    "b. get_attendance(self): Returns the attendance record of the student.\n",
    "c. get_average_attendance(self): Calculates and returns the average\n",
    "attendance percentage of the student based on their attendance record."
   ]
  },
  {
   "cell_type": "code",
   "execution_count": null,
   "id": "e62d2d23-4ff5-4e6e-841a-c67803147725",
   "metadata": {},
   "outputs": [],
   "source": []
  }
 ],
 "metadata": {
  "kernelspec": {
   "display_name": "Python 3 (ipykernel)",
   "language": "python",
   "name": "python3"
  },
  "language_info": {
   "codemirror_mode": {
    "name": "ipython",
    "version": 3
   },
   "file_extension": ".py",
   "mimetype": "text/x-python",
   "name": "python",
   "nbconvert_exporter": "python",
   "pygments_lexer": "ipython3",
   "version": "3.10.6"
  }
 },
 "nbformat": 4,
 "nbformat_minor": 5
}
